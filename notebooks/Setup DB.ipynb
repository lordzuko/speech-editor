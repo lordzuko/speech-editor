{
 "cells": [
  {
   "cell_type": "code",
   "execution_count": 1,
   "id": "78dc3131-99e8-45c7-ba49-b1c69c933bc1",
   "metadata": {},
   "outputs": [],
   "source": [
    "from dotenv import load_dotenv\n",
    "import os\n",
    "\n",
    "ENV_PATH = os.path.join(\"/home/lordzuko/work/speech-editor/.env\")\n",
    "load_dotenv(dotenv_path=ENV_PATH)\n",
    "\n",
    "MODE = os.environ[\"MODE\"]\n",
    "DEBUG = os.environ[\"DEBUG\"] == \"True\"\n",
    "# DEBUG=True\n",
    "DB = os.environ[\"DB\"]\n",
    "DB_HOST = os.environ[\"DB_HOST\"]\n",
    "USERNAME = \"\" if os.environ[\"USERNAME\"] == \"\" else os.environ[\"USERNAME\"]\n",
    "PASSWORD = \"\" if os.environ[\"PASSWORD\"] == \"\" else os.environ[\"PASSWORD\"]\n"
   ]
  },
  {
   "cell_type": "code",
   "execution_count": 2,
   "id": "ef352667-c9a2-4a09-81c4-fcc36589cce1",
   "metadata": {},
   "outputs": [],
   "source": [
    "import certifi\n",
    "from mongoengine import connect\n",
    "from pymongo import ReadPreference\n",
    "\n",
    "def db_init():\n",
    "    return connect(\n",
    "        host=f\"mongodb+srv://{DB_HOST}/{DB}?retryWrites=true&w=majority&ssl=true\",\n",
    "        # host=f\"mongodb://{APP_HOST}/{APP_DB}\",\n",
    "        username=USERNAME,\n",
    "        password=PASSWORD,\n",
    "        authentication_source=\"admin\",\n",
    "        read_preference=ReadPreference.PRIMARY_PREFERRED,\n",
    "        # maxpoolsize=MONGODB_POOL_SIZE,\n",
    "        tlsCAFile=certifi.where(),\n",
    "    )\n"
   ]
  },
  {
   "cell_type": "code",
   "execution_count": 3,
   "id": "cd1f8506-15f6-4f60-aef6-c6362dc078de",
   "metadata": {},
   "outputs": [
    {
     "data": {
      "text/plain": [
       "MongoClient(host=['ac-mwbscfs-shard-00-00.fnblyuu.mongodb.net:27017', 'ac-mwbscfs-shard-00-02.fnblyuu.mongodb.net:27017', 'ac-mwbscfs-shard-00-01.fnblyuu.mongodb.net:27017'], document_class=dict, tz_aware=False, connect=True, retrywrites=True, w='majority', ssl=True, authsource='admin', replicaset='atlas-46h5qd-shard-0', read_preference=PrimaryPreferred(tag_sets=None, max_staleness=-1, hedge=None), ssl_ca_certs='/home/lordzuko/miniconda3/envs/se_daft/lib/python3.8/site-packages/certifi/cacert.pem')"
      ]
     },
     "execution_count": 3,
     "metadata": {},
     "output_type": "execute_result"
    }
   ],
   "source": [
    "db_init()"
   ]
  },
  {
   "cell_type": "code",
   "execution_count": 4,
   "id": "bd0abb94-a6ce-466d-9644-87d9e1fd0dde",
   "metadata": {},
   "outputs": [],
   "source": [
    "import datetime\n",
    "\n",
    "from mongoengine import (BooleanField, DateTimeField, DictField, Document,\n",
    "                         EmailField, ListField, StringField, IntField)\n",
    "\n",
    "\n",
    "class Text(Document): # pylint-disable: too-few-public-methods\n",
    "    \"\"\"\n",
    "    Docoment class for the text data\n",
    "    \"\"\"\n",
    "    meta = {\"collection\": \"text\"}\n",
    "    wav_name = StringField(required=True)\n",
    "    ref_style = StringField(required=True)\n",
    "    text = StringField(required=True)\n",
    "    # utt_len = IntField(required=True)\n"
   ]
  },
  {
   "cell_type": "code",
   "execution_count": 6,
   "id": "54650333-bb8a-488c-bfc1-f242fce95c6e",
   "metadata": {},
   "outputs": [],
   "source": [
    "import yaml\n",
    "config = yaml.load(\n",
    "    open(\"/home/lordzuko/work/speech-editor/conf/config.yaml\", \"r\"), Loader=yaml.FullLoader\n",
    ")\n"
   ]
  },
  {
   "cell_type": "code",
   "execution_count": 8,
   "id": "26fa40ca-7307-4be5-9c8e-1d40ce5d220b",
   "metadata": {},
   "outputs": [],
   "source": [
    "counter = 1\n",
    "max = str(20)\n",
    "for st, st_path in config[\"ref_style\"].items():\n",
    "    for t_k, t_v in config[\"text\"].items():\n",
    "        data = {}\n",
    "        data[\"wav_name\"] = f\"{counter}/{max}.wav\"\n",
    "        data[\"ref_style\"] = st\n",
    "        data[\"text\"] = t_v\n",
    "        success = Text(**data).save()\n",
    "        counter+=1"
   ]
  },
  {
   "cell_type": "code",
   "execution_count": null,
   "id": "95c63c35-9691-470c-92d8-a043c0c3d7bd",
   "metadata": {},
   "outputs": [],
   "source": []
  }
 ],
 "metadata": {
  "kernelspec": {
   "display_name": "Python 3 (ipykernel)",
   "language": "python",
   "name": "python3"
  },
  "language_info": {
   "codemirror_mode": {
    "name": "ipython",
    "version": 3
   },
   "file_extension": ".py",
   "mimetype": "text/x-python",
   "name": "python",
   "nbconvert_exporter": "python",
   "pygments_lexer": "ipython3",
   "version": "3.8.16"
  }
 },
 "nbformat": 4,
 "nbformat_minor": 5
}
